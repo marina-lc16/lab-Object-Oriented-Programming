{
 "cells": [
  {
   "cell_type": "markdown",
   "metadata": {},
   "source": [
    "# Lab_Object_Oriented_Programming"
   ]
  },
  {
   "cell_type": "markdown",
   "metadata": {},
   "source": [
    "## **Introduction**\n",
    "\n",
    "In this lab you have to implement a Python class for a TV.\n",
    "\n",
    "### Constructor\n",
    "\n",
    "Crete a Python Tv class with a constructor and the following attributes:\n",
    "\n",
    "-  .on (Boolean)\n",
    "\n",
    "-  .volume (float in [0,100])\n",
    "\n",
    "-  .active_channel (int in [1,10])\n",
    "\n",
    "-  .input (str in [\"Anthena\", \"HDMI1\", \"HDMI2\", \"HDMI3\"])\n",
    "\n",
    "-  .size (float in [42, 50, 55, 65, 75])\n",
    "\n",
    "### Methods\n",
    "\n",
    "-  .switch_on()\n",
    "-  .switch_off()\n",
    "-  .set_volume(volume: int)\n",
    "-  .change_channel(channel: int)\n",
    "-  .set_input(value: str)"
   ]
  },
  {
   "cell_type": "code",
   "execution_count": 4,
   "metadata": {
    "executionInfo": {
     "elapsed": 242,
     "status": "ok",
     "timestamp": 1690982549666,
     "user": {
      "displayName": "Ignacio Soteras",
      "userId": "02050793736257155229"
     },
     "user_tz": -120
    },
    "id": "CtU_H2xwU4-l"
   },
   "outputs": [],
   "source": [
    "class TV:\n",
    "    pass"
   ]
  },
  {
   "cell_type": "markdown",
   "metadata": {
    "id": "wi8HPrxzSYTm"
   },
   "source": [
    "# Creating our own class"
   ]
  },
  {
   "cell_type": "code",
   "execution_count": 15,
   "metadata": {},
   "outputs": [],
   "source": [
    "class TV:\n",
    "    def __init__(self, size=42):\n",
    "        self.on = False\n",
    "        self.volume = 0\n",
    "        self.active_channel = 1\n",
    "        self.input = \"Anthena\"\n",
    "        self.size = size\n",
    "\n",
    "    def switch_on(self):\n",
    "        self.on = True\n",
    "\n",
    "    def switch_off(self):\n",
    "        self.on = False\n",
    "\n",
    "    def set_volume(self, volume):\n",
    "        if 0 <= volume <= 100:\n",
    "            self.volume = volume\n",
    "        else:\n",
    "            print(\"Volume must be between 0 and 100.\")\n",
    "\n",
    "    def change_channel(self, channel):\n",
    "        if 1 <= channel <= 10:\n",
    "            self.active_channel = channel\n",
    "        else:\n",
    "            print(\"Channel must be between 1 and 10.\")\n",
    "\n",
    "    def set_input(self, value):\n",
    "        valid_inputs = [\"Anthena\", \"HDMI1\", \"HDMI2\", \"HDMI3\"]\n",
    "        if value in valid_inputs:\n",
    "            self.input = value\n",
    "        else:\n",
    "            print(\"Invalid input source. Choose from: Anthena, HDMI1, HDMI2, HDMI3.\")"
   ]
  },
  {
   "cell_type": "code",
   "execution_count": 13,
   "metadata": {},
   "outputs": [],
   "source": [
    "#instance of the TV class \n",
    "\n",
    "__tv__ = TV()"
   ]
  },
  {
   "cell_type": "code",
   "execution_count": 17,
   "metadata": {},
   "outputs": [
    {
     "name": "stdout",
     "output_type": "stream",
     "text": [
      "TV is on: True\n",
      "Volume: 50\n",
      "Active channel: 5\n",
      "Input source: Anthena\n",
      "TV size: 42 inches\n"
     ]
    }
   ],
   "source": [
    "# Examples\n",
    "\n",
    "_tv__ = TV(size=42)\n",
    "_tv__.switch_on()\n",
    "_tv__.set_volume(50)\n",
    "_tv__.change_channel(5)\n",
    "_tv__.set_input(\"Anthena\")\n",
    "\n",
    "print(f\"TV is on: {_tv__.on}\")\n",
    "print(f\"Volume: {_tv__.volume}\")\n",
    "print(f\"Active channel: {_tv__.active_channel}\")\n",
    "print(f\"Input source: {_tv__.input}\")\n",
    "print(f\"TV size: {_tv__.size} inches\")"
   ]
  },
  {
   "cell_type": "code",
   "execution_count": null,
   "metadata": {},
   "outputs": [],
   "source": []
  }
 ],
 "metadata": {
  "colab": {
   "provenance": []
  },
  "kernelspec": {
   "display_name": "Python 3 (ipykernel)",
   "language": "python",
   "name": "python3"
  },
  "language_info": {
   "codemirror_mode": {
    "name": "ipython",
    "version": 3
   },
   "file_extension": ".py",
   "mimetype": "text/x-python",
   "name": "python",
   "nbconvert_exporter": "python",
   "pygments_lexer": "ipython3",
   "version": "3.11.0"
  }
 },
 "nbformat": 4,
 "nbformat_minor": 1
}
